{
  "metadata": {
    "kernelspec": {
      "name": "python",
      "display_name": "Python (Pyodide)",
      "language": "python"
    },
    "language_info": {
      "codemirror_mode": {
        "name": "python",
        "version": 3
      },
      "file_extension": ".py",
      "mimetype": "text/x-python",
      "name": "python",
      "nbconvert_exporter": "python",
      "pygments_lexer": "ipython3",
      "version": "3.8"
    }
  },
  "nbformat_minor": 4,
  "nbformat": 4,
  "cells": [
    {
      "cell_type": "markdown",
      "source": "# Welcome to OOFEM python tutorial",
      "metadata": {
        "tags": [],
        "editable": true,
        "slideshow": {
          "slide_type": ""
        }
      }
    },
    {
      "cell_type": "markdown",
      "source": "## About OOFEM\n* OOFEM.org is open-source, multi-physics finite element solver\n* Written in C++ with object-oriented architecture\n* Wisit www.oofem.org for documantation and tutorials\n",
      "metadata": {}
    },
    {
      "cell_type": "markdown",
      "source": "## About this site\n* OOFEM comes with Python bindings, alloving to script OOFEM from Python\n* You can also develop custom elements, material models and solvers in Python\n* This site provides tutorials on using and extending OOFEM with Python",
      "metadata": {}
    },
    {
      "cell_type": "markdown",
      "source": "## Tutorials\n### Introduction & First steps\n* Running solver with existing model and plotting results:\n  *  [demo01.ipynb](Getting_started/demo01.ipynb) ",
      "metadata": {}
    },
    {
      "cell_type": "markdown",
      "source": "This site is powered by [JupiterLite](https://jupyterlite.readthedocs.io/en/stable/), [Pyodide](https://pyodide.org/en/stable/), [Github Pages](https://pages.github.com/) and OOFEM wasm python module.\n\nCopyright (c) 2024 Borek Patzak",
      "metadata": {}
    },
    {
      "cell_type": "code",
      "source": "",
      "metadata": {
        "trusted": true
      },
      "outputs": [],
      "execution_count": null
    }
  ]
}