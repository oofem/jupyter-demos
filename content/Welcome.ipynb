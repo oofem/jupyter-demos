{
  "cells": [
    {
      "cell_type": "markdown",
      "metadata": {
        "editable": true,
        "slideshow": {
          "slide_type": ""
        },
        "tags": []
      },
      "source": [
        "# Welcome to OOFEM python tutorial"
      ]
    },
    {
      "cell_type": "markdown",
      "metadata": {},
      "source": [
        "## About OOFEM\n",
        "* OOFEM.org is open-source, multi-physics finite element solver\n",
        "* Written in C++ with object-oriented architecture\n",
        "* Visit www.oofem.org for documantation and tutorials\n"
      ]
    },
    {
      "cell_type": "markdown",
      "metadata": {},
      "source": [
        "## About this site\n",
        "* OOFEM comes with Python bindings, alloving to script OOFEM from Python\n",
        "* You can also develop custom elements, material models and solvers in Python\n",
        "* This site provides tutorials on using and extending OOFEM with Python"
      ]
    },
    {
      "cell_type": "markdown",
      "metadata": {},
      "source": [
        "## Tutorials\n",
        "### Introduction & First steps\n",
        "* Running solver with existing model and plotting results:\n",
        "  *  [demo01.ipynb](Getting_started/demo01.ipynb) "
      ]
    },
    {
      "cell_type": "markdown",
      "metadata": {},
      "source": [
        "This site is powered by [JupiterLite](https://jupyterlite.readthedocs.io/en/stable/), [Pyodide](https://pyodide.org/en/stable/), [Github Pages](https://pages.github.com/) and [OOFEM](https://www.oofem.org) wasm python module.\n",
        "\n",
        "Copyright (c) 2024 Borek Patzak"
      ]
    },
    {
      "cell_type": "code",
      "execution_count": null,
      "metadata": {
        "trusted": true
      },
      "outputs": [],
      "source": []
    }
  ],
  "metadata": {
    "kernelspec": {
      "display_name": "Python 3",
      "language": "python",
      "name": "python3"
    },
    "language_info": {
      "codemirror_mode": {
        "name": "ipython",
        "version": 3
      },
      "file_extension": ".py",
      "mimetype": "text/x-python",
      "name": "python",
      "nbconvert_exporter": "python",
      "pygments_lexer": "ipython3",
      "version": "3.8.10"
    }
  },
  "nbformat": 4,
  "nbformat_minor": 4
}
