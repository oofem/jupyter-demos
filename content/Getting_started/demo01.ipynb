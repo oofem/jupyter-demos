{
  "cells": [
    {
      "cell_type": "code",
      "execution_count": null,
      "id": "ecdbf33b-49d0-42ba-bca6-7b9dfe1adaf7",
      "metadata": {
        "trusted": true
      },
      "outputs": [],
      "source": [
        "# Preliminary step to install OOFEM wasm wheel for Pyodide \n",
        "%pip install https://www.oofem.org/download/oofem-2.6.0.dev2-cp312-cp312-pyodide_2024_0_wasm32.whl"
      ]
    },
    {
      "cell_type": "code",
      "execution_count": null,
      "id": "bd5a93cf-3d96-44f8-87be-a70d4ed64320",
      "metadata": {
        "trusted": true
      },
      "outputs": [
        {
          "name": "stderr",
          "output_type": "stream",
          "text": [
            "Matplotlib is building the font cache; this may take a moment.\n"
          ]
        },
        {
          "data": {
            "text/plain": [
              "'/drive/Getting_started'"
            ]
          },
          "execution_count": 2,
          "metadata": {},
          "output_type": "execute_result"
        }
      ],
      "source": [
        "# Import python modules needed for the example \n",
        "import oofem as oofempy\n",
        "import oofem.util \n",
        "import numpy\n",
        "import matplotlib"
      ]
    },
    {
      "cell_type": "code",
      "execution_count": null,
      "id": "0f3c9b9d",
      "metadata": {
        "trusted": true
      },
      "outputs": [],
      "source": [
        "# Create data reader, passing path to the OOFEM input file\n",
        "dr=oofempy.OOFEMTXTDataReader(\"/drive/data/concrete_3point.in\")\n",
        "# Set up the problem from the input\n",
        "problem=oofempy.InstanciateProblem(dr, oofempy.problemMode.processor, False, None, False)\n",
        "problem.init()\n",
        "# Solve the problem\n",
        "problem.solveYourself()"
      ]
    },
    {
      "cell_type": "code",
      "execution_count": null,
      "id": "858447d4",
      "metadata": {
        "trusted": true
      },
      "outputs": [
        {
          "name": "stdout",
          "output_type": "stream",
          "text": [
            "<oofem.oofempy.TimeStep object at 0x4f037d8> <oofem.oofempy.Field object at 0x17e4b20>\n"
          ]
        },
        {
          "data": {
            "image/png": "[encoded data removed]",
            "text/plain": [
              "<Figure size 640x480 with 2 Axes>"
            ]
          },
          "metadata": {},
          "output_type": "display_data"
        }
      ],
      "source": [
        "# Get reference to problem domain\n",
        "d=problem.giveDomain(1)\n",
        "# Get current (last) solution step\n",
        "tstep = problem.giveCurrentStep()\n",
        "    \n",
        "# Get stress field from the problem for the current solution step\n",
        "field = problem.giveField(oofempy.InternalStateType.IST_StressTensor, tstep)\n",
        "\n",
        "# Use utility function to plot the stress field (its zero component) on the domain \n",
        "oofem.util.plot2Dmesh(d, tstep, field, 0).show()"
      ]
    },
    {
      "cell_type": "code",
      "execution_count": null,
      "id": "df5fb53a-5abf-46a7-873d-1215d4b5f162",
      "metadata": {
        "trusted": true
      },
      "outputs": [],
      "source": []
    }
  ],
  "metadata": {
    "kernelspec": {
      "display_name": "Python (Pyodide)",
      "language": "python",
      "name": "python"
    },
    "language_info": {
      "codemirror_mode": {
        "name": "python",
        "version": 3
      },
      "file_extension": ".py",
      "mimetype": "text/x-python",
      "name": "python",
      "nbconvert_exporter": "python",
      "pygments_lexer": "ipython3",
      "version": "3.8"
    }
  },
  "nbformat": 4,
  "nbformat_minor": 5
}
