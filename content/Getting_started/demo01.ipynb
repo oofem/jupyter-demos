{
  "cells": [
    {
      "cell_type": "code",
      "execution_count": null,
      "id": "ecdbf33b-49d0-42ba-bca6-7b9dfe1adaf7",
      "metadata": {
        "trusted": true
      },
      "outputs": [],
      "source": [
        "%pip install https://www.oofem.org/download/oofem-2.6.0.dev1-cp312-cp312-pyodide_2024_0_wasm32.whl"
      ]
    },
    {
      "cell_type": "code",
      "execution_count": null,
      "id": "bd5a93cf-3d96-44f8-87be-a70d4ed64320",
      "metadata": {
        "trusted": true
      },
      "outputs": [],
      "source": [
        "import oofem as oofempy\n",
        "import oofem.util as util\n",
        "import numpy\n",
        "import matplotlib\n",
        "import os\n",
        "os.getcwd()"
      ]
    },
    {
      "cell_type": "code",
      "execution_count": null,
      "id": "0f3c9b9d",
      "metadata": {
        "trusted": true
      },
      "outputs": [],
      "source": [
        "dr=oofempy.OOFEMTXTDataReader(\"/drive/data/concrete_3point.in\")\n",
        "problem=oofempy.InstanciateProblem(dr, oofempy.problemMode.processor, False, None, False)\n",
        "problem.init()\n",
        "problem.solveYourself()\n"
      ]
    },
    {
      "cell_type": "code",
      "execution_count": null,
      "id": "858447d4",
      "metadata": {
        "trusted": true
      },
      "outputs": [],
      "source": [
        "d=problem.giveDomain(1)\n",
        "tstep = problem.giveCurrentStep()\n",
        "    \n",
        "\n",
        "field = problem.giveField(oofempy.InternalStateType.IST_StressTensor, tstep)\n",
        "print(tstep, field)\n",
        "\n",
        "util.plot2Dmesh(d, tstep, field, 0).show()\n"
      ]
    },
    {
      "cell_type": "code",
      "execution_count": null,
      "id": "9dd7e440-3830-4cd8-b92e-94279644227b",
      "metadata": {
        "trusted": true
      },
      "outputs": [],
      "source": []
    },
    {
      "cell_type": "code",
      "execution_count": null,
      "id": "df5fb53a-5abf-46a7-873d-1215d4b5f162",
      "metadata": {
        "trusted": true
      },
      "outputs": [],
      "source": []
    }
  ],
  "metadata": {
    "kernelspec": {
      "display_name": "Python (Pyodide)",
      "language": "python",
      "name": "python"
    },
    "language_info": {
      "codemirror_mode": {
        "name": "python",
        "version": 3
      },
      "file_extension": ".py",
      "mimetype": "text/x-python",
      "name": "python",
      "nbconvert_exporter": "python",
      "pygments_lexer": "ipython3",
      "version": "3.8"
    }
  },
  "nbformat": 4,
  "nbformat_minor": 5
}
