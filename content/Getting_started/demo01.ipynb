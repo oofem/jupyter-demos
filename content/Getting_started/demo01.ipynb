{
 "cells": [
  {
   "cell_type": "code",
   "execution_count": 4,
   "id": "cf1bb8d1",
   "metadata": {},
   "outputs": [],
   "source": [
    "import sys\n",
    "sys.path.append('../bindings/python')\n",
    "import oofempy\n",
    "import util\n"
   ]
  },
  {
   "cell_type": "code",
   "execution_count": 5,
   "id": "0f3c9b9d",
   "metadata": {},
   "outputs": [
    {
     "name": "stdout",
     "output_type": "stream",
     "text": [
      "OctreeLocalizer: init\n",
      "Spatial localizer init done\n",
      "Computing initial guess\n",
      "\n",
      "StaticStructural :: solveYourselfAt - Solving step 1, metastep 1, (neq = 885)\n",
      "CALMLS:       Initial step length: 2.500000e-02   \n",
      "CALMLS:       Iteration       LoadLevel       ForceError      DisplError    \n",
      "----------------------------------------------------------------------------\n",
      "CALMLS:       1               6.105389e+00    1.532959e-13    1.034151e-14   \n",
      "CALMLS:       Adjusted step length: 2.500000e-02   \n",
      "EngngModel info: user time consumed by solution step 1: 0.11s\n",
      "Computing initial guess\n",
      "\n",
      "StaticStructural :: solveYourselfAt - Solving step 2, metastep 1, (neq = 885)\n",
      "CALMLS:       Initial step length: 2.500000e-02   \n",
      "CALMLS:       Iteration       LoadLevel       ForceError      DisplError    \n",
      "----------------------------------------------------------------------------\n",
      "CALMLS:       1               1.221078e+01    2.253033e-13    5.261375e-15   \n",
      "CALMLS:       Adjusted step length: 2.500000e-02   \n",
      "EngngModel info: user time consumed by solution step 2: 0.11s\n"
     ]
    }
   ],
   "source": [
    "dr=oofempy.OOFEMTXTDataReader(\"concrete_3point.in\")\n",
    "problem=oofempy.InstanciateProblem(dr, oofempy.problemMode.processor, False, None, False)\n",
    "problem.init()\n",
    "problem.solveYourself()\n"
   ]
  },
  {
   "cell_type": "code",
   "execution_count": 6,
   "id": "858447d4",
   "metadata": {},
   "outputs": [
    {
     "name": "stdout",
     "output_type": "stream",
     "text": [
      "<oofempy.TimeStep object at 0x7f01812963f0> <oofempy.Field object at 0x7f0181295eb0>\n"
     ]
    },
    {
     "data": {
      "image/png": "[encoded data removed]",
      "text/plain": [
       "<Figure size 640x480 with 2 Axes>"
      ]
     },
     "metadata": {},
     "output_type": "display_data"
    }
   ],
   "source": [
    "d=problem.giveDomain(1)\n",
    "tstep = problem.giveCurrentStep()\n",
    "    \n",
    "\n",
    "field = problem.giveField(oofempy.InternalStateType.IST_StressTensor, tstep)\n",
    "print(tstep, field)\n",
    "\n",
    "util.plot2Dmesh(d, tstep, field, 0).show()\n"
   ]
  }
 ],
 "metadata": {
  "kernelspec": {
   "display_name": "Python 3",
   "language": "python",
   "name": "python3"
  },
  "language_info": {
   "codemirror_mode": {
    "name": "ipython",
    "version": 3
   },
   "file_extension": ".py",
   "mimetype": "text/x-python",
   "name": "python",
   "nbconvert_exporter": "python",
   "pygments_lexer": "ipython3",
   "version": "3.10.12"
  }
 },
 "nbformat": 4,
 "nbformat_minor": 5
}
